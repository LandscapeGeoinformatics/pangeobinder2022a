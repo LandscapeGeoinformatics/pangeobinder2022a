{
 "cells": [
  {
   "cell_type": "code",
   "execution_count": null,
   "id": "bc6d0ab0-93d9-4f56-8569-586176b0271d",
   "metadata": {},
   "outputs": [],
   "source": [
    "import numpy as np\n",
    "import pandas as pd\n",
    "import scipy\n",
    "\n",
    "import dask\n",
    "import distributed\n",
    "import joblib\n",
    "import xarray as xr\n",
    "\n",
    "import shapely\n",
    "import fiona\n",
    "import geopandas as gpd\n",
    "import rasterio as rio\n",
    "import rasterstats\n",
    "import earthpy as ep\n",
    "\n",
    "import matplotlib.pyplot as plt\n",
    "import descartes\n",
    "import cartopy\n",
    "\n",
    "import seaborn\n",
    "import altair"
   ]
  },
  {
   "cell_type": "code",
   "execution_count": null,
   "id": "7aed47a8-1cfb-4921-95d6-ae1265363de2",
   "metadata": {},
   "outputs": [],
   "source": [
    "import bokeh\n",
    "import holoviews as hv\n",
    "from holoviews import opts\n",
    "hv.extension('bokeh')\n",
    "\n",
    "import hvplot\n",
    "import datashader\n",
    "import geoviews as gv\n",
    "import folium\n",
    "import leafmap\n",
    "\n",
    "import panel as pn\n",
    "pn.extension()\n",
    "\n",
    "import pydeck as pdk"
   ]
  },
  {
   "cell_type": "code",
   "execution_count": null,
   "id": "a1e55fa2-3f27-48c5-9f09-a457a8f10c97",
   "metadata": {},
   "outputs": [],
   "source": [
    "import rioxarray\n",
    "from rio_cogeo.cogeo import cog_translate\n",
    "from rio_cogeo.profiles import cog_profiles\n",
    "\n",
    "import botocore\n",
    "\n",
    "import contextily\n",
    "import networkx\n",
    "import osmnx\n",
    "import owslib\n",
    "import geopy\n",
    "\n",
    "import skimage\n",
    "import sklearn\n",
    "import dask_ml\n",
    "import regionmask"
   ]
  },
  {
   "cell_type": "code",
   "execution_count": null,
   "id": "8631c613-1277-4d4c-86dd-e1dd0de12ac1",
   "metadata": {},
   "outputs": [],
   "source": [
    "import movingpandas as mpd\n",
    "import hvplot.pandas \n",
    "import gstools\n",
    "import pykrige\n",
    "import pyinterp\n",
    "import intake\n",
    "import fsspec\n",
    "import netCDF4 as nc\n",
    "import h5py\n",
    "import h5netcdf\n",
    "import tables"
   ]
  },
  {
   "cell_type": "code",
   "execution_count": null,
   "id": "fa3881a8-1ce3-46db-ba7e-5c999934e164",
   "metadata": {},
   "outputs": [],
   "source": [
    "import pystac\n",
    "from pystac_client import Client\n",
    "import stackstac\n",
    "import rechunker\n",
    "import kerchunk\n",
    "import pooch\n",
    "import zarr\n",
    "import xhistogram\n",
    "import xoak\n",
    "\n",
    "ireg = xoak.IndexRegistry()\n",
    "ireg"
   ]
  },
  {
   "cell_type": "code",
   "execution_count": null,
   "id": "af0d2b2c-88ed-4fbe-88a3-85173b575fc1",
   "metadata": {},
   "outputs": [],
   "source": [
    "# intake-xarray\n",
    "# intake-stac\n",
    "# intake_geopandas"
   ]
  },
  {
   "cell_type": "code",
   "execution_count": null,
   "id": "53e47462-9c71-4c56-955e-c1711cc63262",
   "metadata": {},
   "outputs": [],
   "source": [
    "import sqlalchemy\n",
    "import openpyxl\n",
    "import requests\n",
    "import toolz\n",
    "import streamz\n",
    "import tqdm\n",
    "import spotpy\n",
    "import pymannkendall\n",
    "import rhealpixdggs\n",
    "import dggrid4py\n",
    "from pys2index import S2PointIndex\n",
    "from h3 import h3"
   ]
  },
  {
   "cell_type": "code",
   "execution_count": null,
   "id": "7bd9e5ec-4023-4343-9f0e-2d6e14f96bb3",
   "metadata": {},
   "outputs": [],
   "source": [
    "client = dask.distributed.Client()\n",
    "display(client)"
   ]
  },
  {
   "cell_type": "code",
   "execution_count": null,
   "id": "0f3d0afb-cef8-4661-ba79-279fc2675df9",
   "metadata": {},
   "outputs": [],
   "source": []
  },
  {
   "cell_type": "code",
   "execution_count": null,
   "id": "9e998776-12d6-45e8-aa19-017c3cd42624",
   "metadata": {},
   "outputs": [],
   "source": []
  }
 ],
 "metadata": {
  "kernelspec": {
   "display_name": "Python 3 (ipykernel)",
   "language": "python",
   "name": "python3"
  },
  "language_info": {
   "codemirror_mode": {
    "name": "ipython",
    "version": 3
   },
   "file_extension": ".py",
   "mimetype": "text/x-python",
   "name": "python",
   "nbconvert_exporter": "python",
   "pygments_lexer": "ipython3",
   "version": "3.10.4"
  }
 },
 "nbformat": 4,
 "nbformat_minor": 5
}
